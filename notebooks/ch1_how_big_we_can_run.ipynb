{
 "cells": [
  {
   "cell_type": "markdown",
   "id": "96cb645c-1007-48b0-b711-646cd4671178",
   "metadata": {
    "tags": []
   },
   "source": [
    "# Step1 : Import libraries"
   ]
  },
  {
   "cell_type": "code",
   "execution_count": 1,
   "id": "d20a54cd-25ef-4c55-b37e-337544a7aacb",
   "metadata": {},
   "outputs": [],
   "source": [
    "import re\n",
    "import os\n",
    "import glob\n",
    "import zipfile\n",
    "import requests\n",
    "from urllib.request import urlretrieve\n",
    "import json\n",
    "import pandas as pd"
   ]
  },
  {
   "cell_type": "markdown",
   "id": "81a8dcfd-eafe-408e-9638-9c479e5aef42",
   "metadata": {
    "tags": []
   },
   "source": [
    "# Step2 : Working with 3GB data"
   ]
  },
  {
   "cell_type": "markdown",
   "id": "59e4dd88-7d60-497c-95e1-d6ad4b0e24e7",
   "metadata": {},
   "source": [
    "### 2.1 Download the 3GB data from figshare via API"
   ]
  },
  {
   "cell_type": "code",
   "execution_count": 2,
   "id": "938d1248-1864-4037-a243-031ada81be97",
   "metadata": {},
   "outputs": [
    {
     "data": {
      "text/plain": [
       "[{'id': 26844650,\n",
       "  'name': 'allyears.csv.zip',\n",
       "  'size': 2405908113,\n",
       "  'is_link_only': False,\n",
       "  'download_url': 'https://ndownloader.figshare.com/files/26844650',\n",
       "  'supplied_md5': '9e046ac05ecd2c32a256a47dd1098b81',\n",
       "  'computed_md5': '9e046ac05ecd2c32a256a47dd1098b81'},\n",
       " {'id': 26863682,\n",
       "  'name': 'individual_years.zip',\n",
       "  'size': 1896206676,\n",
       "  'is_link_only': False,\n",
       "  'download_url': 'https://ndownloader.figshare.com/files/26863682',\n",
       "  'supplied_md5': '921da748974b07b2a70bbfcc04535a77',\n",
       "  'computed_md5': '921da748974b07b2a70bbfcc04535a77'},\n",
       " {'id': 27515426,\n",
       "  'name': 'combined_model_data.csv.zip',\n",
       "  'size': 821308997,\n",
       "  'is_link_only': False,\n",
       "  'download_url': 'https://ndownloader.figshare.com/files/27515426',\n",
       "  'supplied_md5': '7638434c44a7d29cbb29fe200b4fd65d',\n",
       "  'computed_md5': '7638434c44a7d29cbb29fe200b4fd65d'},\n",
       " {'id': 27520682,\n",
       "  'name': 'combined_model_data_parti.parquet.zip',\n",
       "  'size': 519743915,\n",
       "  'is_link_only': False,\n",
       "  'download_url': 'https://ndownloader.figshare.com/files/27520682',\n",
       "  'supplied_md5': '02f4e3df8d16580a02291de225072689',\n",
       "  'computed_md5': '02f4e3df8d16580a02291de225072689'},\n",
       " {'id': 27520808,\n",
       "  'name': 'combined_model_data.parquet',\n",
       "  'size': 565872005,\n",
       "  'is_link_only': False,\n",
       "  'download_url': 'https://ndownloader.figshare.com/files/27520808',\n",
       "  'supplied_md5': 'ae63699ab21ffa8006559c6afbcd2271',\n",
       "  'computed_md5': 'ae63699ab21ffa8006559c6afbcd2271'}]"
      ]
     },
     "execution_count": 2,
     "metadata": {},
     "output_type": "execute_result"
    }
   ],
   "source": [
    "# API request\n",
    "article_id = 14226968\n",
    "url = f\"https://api.figshare.com/v2/articles/{article_id}\"\n",
    "headers = {\"Content-Type\": \"application/json\"}\n",
    "output_directory = \"figshareairline_3GB/\"\n",
    "response = requests.request(\"GET\", url, headers=headers)\n",
    "data = json.loads(response.text)\n",
    "files = data[\"files\"]\n",
    "files"
   ]
  },
  {
   "cell_type": "markdown",
   "id": "259ac278-4239-41ff-8eaf-43f769527739",
   "metadata": {},
   "source": [
    "### 2.2 Extract the zip file"
   ]
  },
  {
   "cell_type": "code",
   "execution_count": 3,
   "id": "c697532d-40a3-41f8-8390-8e6473c76524",
   "metadata": {},
   "outputs": [],
   "source": [
    "# Create zip file of individual_years.zip"
   ]
  },
  {
   "cell_type": "code",
   "execution_count": 4,
   "id": "d08ec532-f388-4ae7-82e4-5b6725e76915",
   "metadata": {},
   "outputs": [
    {
     "name": "stdout",
     "output_type": "stream",
     "text": [
      "CPU times: user 8.5 s, sys: 27.6 s, total: 36.1 s\n",
      "Wall time: 3min 14s\n"
     ]
    }
   ],
   "source": [
    "%%time\n",
    "files_to_dl = [\"individual_years.zip\"]\n",
    "for file in files:\n",
    "    if file[\"name\"] in files_to_dl:\n",
    "        os.makedirs(output_directory, exist_ok=True)\n",
    "        urlretrieve(file[\"download_url\"], output_directory + file[\"name\"])"
   ]
  },
  {
   "cell_type": "code",
   "execution_count": 5,
   "id": "20000eba-9dbe-4920-b098-fc26bbd593ca",
   "metadata": {},
   "outputs": [],
   "source": [
    "# Extract data into output directory"
   ]
  },
  {
   "cell_type": "code",
   "execution_count": 6,
   "id": "d73516af-d768-46b3-962c-767563ed0377",
   "metadata": {},
   "outputs": [
    {
     "name": "stdout",
     "output_type": "stream",
     "text": [
      "CPU times: user 17.7 s, sys: 1.4 s, total: 19.1 s\n",
      "Wall time: 19.3 s\n"
     ]
    }
   ],
   "source": [
    "%%time\n",
    "with zipfile.ZipFile(os.path.join(output_directory, \"individual_years.zip\"), 'r') as f:\n",
    "    f.extractall(output_directory)"
   ]
  },
  {
   "cell_type": "markdown",
   "id": "e3334e61-8cd9-4e43-981d-270d87481094",
   "metadata": {},
   "source": [
    "### 2.3 Combine CSV files"
   ]
  },
  {
   "cell_type": "code",
   "execution_count": 7,
   "id": "a63ea0bf-2410-4d7a-af68-ebb697a6313a",
   "metadata": {},
   "outputs": [
    {
     "name": "stdout",
     "output_type": "stream",
     "text": [
      "CPU times: user 2min 45s, sys: 12.5 s, total: 2min 58s\n",
      "Wall time: 2min 59s\n"
     ]
    }
   ],
   "source": [
    "%%time\n",
    "## here we are using a normal python way for merging the data \n",
    "import pandas as pd\n",
    "use_cols = [\"ArrDelay\", \"DepDelay\", \"Distance\", \"TailNum\",\"UniqueCarrier\",\"Origin\",\"Dest\"]\n",
    "files = glob.glob('figshareairline_3GB/individual_years/*.csv')\n",
    "df = pd.concat((pd.read_csv(file, index_col=0, usecols=use_cols)\n",
    "                .assign(year=re.findall(\"[0-9]+\", file)[0])\n",
    "                for file in files)\n",
    "              )\n",
    "df.to_csv(\"figshareairline_3GB/combined_data.csv\")"
   ]
  },
  {
   "cell_type": "markdown",
   "id": "2769228f-3f20-4f97-be9e-2c2710a0a83a",
   "metadata": {},
   "source": [
    "### 2.4 Check occupied space"
   ]
  },
  {
   "cell_type": "code",
   "execution_count": 8,
   "id": "dc641d2e-e856-4e51-8056-a602d0954004",
   "metadata": {},
   "outputs": [
    {
     "name": "stdout",
     "output_type": "stream",
     "text": [
      "2.9G\tfigshareairline_3GB/combined_data.csv\n"
     ]
    }
   ],
   "source": [
    "%%sh\n",
    "du -sh figshareairline_3GB/combined_data.csv"
   ]
  },
  {
   "cell_type": "markdown",
   "id": "39341239-4223-4f2c-b4c5-f27fe7c0d831",
   "metadata": {},
   "source": [
    "### 2.5 : Perform Simple EDA"
   ]
  },
  {
   "cell_type": "code",
   "execution_count": 9,
   "id": "e4424cae-fbe8-42d0-b441-f2fc335553f7",
   "metadata": {},
   "outputs": [
    {
     "name": "stdout",
     "output_type": "stream",
     "text": [
      "Series([], Name: UniqueCarrier, dtype: int64)\n",
      "CPU times: user 24.3 s, sys: 10.6 s, total: 34.9 s\n",
      "Wall time: 41 s\n"
     ]
    }
   ],
   "source": [
    "%%time\n",
    "df = pd.read_csv(\"figshareairline_3GB/combined_data.csv\")\n",
    "print(df[(df.year ==2004) & (df.ArrDelay >10)][\"UniqueCarrier\"].value_counts())"
   ]
  },
  {
   "cell_type": "markdown",
   "id": "7bc767f2-c49c-46a9-804f-ba478bcad488",
   "metadata": {},
   "source": [
    "Summary:\n",
    "| DataSize | Operating System | RAM | Processor | Is SSD | Space occupied | Time taken |\n",
    "|:-----------:|:----------------:|:---:|:---------:|:------:|:----------:|:----------:|\n",
    "| 3GB    |          MacOS        |  16GB   |    Apple M1 Pro       |   Yes     |     2.9GB     |   39.6s   |\n",
    "| 10GB    |          MacOS        |  16GB   |    Apple M1 Pro       |   Yes     |            |      |\n",
    "| 20GB    |          MacOS        |  16GB   |    Apple M1 Pro       |   Yes     |            |      |"
   ]
  },
  {
   "cell_type": "markdown",
   "id": "578405eb-f1b9-4e77-b309-8dd2d0a4935d",
   "metadata": {},
   "source": [
    "# Step3 : Working with 10GB data"
   ]
  },
  {
   "cell_type": "markdown",
   "id": "84b05c29-33f5-4119-ac2a-4bed6b0e09ae",
   "metadata": {},
   "source": [
    "### 3.1 Check occupied space"
   ]
  },
  {
   "cell_type": "markdown",
   "id": "238709a1-b7a2-496a-abb3-d92081284411",
   "metadata": {},
   "source": [
    "The 10GB Airline data can be found [here.](https://drive.google.com/file/d/1cf88O_KAWy0V2GS-WvysHkd6z0nsOSBL/view)"
   ]
  },
  {
   "cell_type": "code",
   "execution_count": 10,
   "id": "ed229dea-5aeb-44a9-8591-90842ada2afb",
   "metadata": {},
   "outputs": [
    {
     "name": "stdout",
     "output_type": "stream",
     "text": [
      "9.3G\tfigshareairline_10GB/combined_10gb.csv\n"
     ]
    }
   ],
   "source": [
    "%%sh\n",
    "du -sh figshareairline_10GB/combined_10gb.csv"
   ]
  },
  {
   "cell_type": "markdown",
   "id": "6e24d06f-373b-47f1-a30c-7aaa131ea0db",
   "metadata": {},
   "source": [
    "### 3.2 : Perform Simple EDA"
   ]
  },
  {
   "cell_type": "code",
   "execution_count": 11,
   "id": "b1298768-adaa-4b06-ac96-69af061292e8",
   "metadata": {},
   "outputs": [
    {
     "name": "stdout",
     "output_type": "stream",
     "text": [
      "WN    675501\n",
      "DL    567003\n",
      "AA    529155\n",
      "MQ    391533\n",
      "UA    380076\n",
      "NW    375090\n",
      "US    285978\n",
      "XE    283401\n",
      "OO    261984\n",
      "OH    251397\n",
      "CO    224967\n",
      "EV    204897\n",
      "DH    198990\n",
      "HP    165816\n",
      "FL    128733\n",
      "AS    126561\n",
      "B6     58263\n",
      "TZ     53253\n",
      "HA     10926\n",
      "Name: UniqueCarrier, dtype: int64\n",
      "CPU times: user 1min 13s, sys: 35.7 s, total: 1min 49s\n",
      "Wall time: 2min 25s\n"
     ]
    }
   ],
   "source": [
    "%%time\n",
    "df = pd.read_csv(\"figshareairline_10GB/combined_10gb.csv\")\n",
    "print(df[(df.year ==2004) & (df.ArrDelay >10)][\"UniqueCarrier\"].value_counts())"
   ]
  },
  {
   "cell_type": "markdown",
   "id": "4c712554-4f4a-47a0-b1ed-1895f16b46a5",
   "metadata": {},
   "source": [
    "Summary:\n",
    "| DataSize | Operating System | RAM | Processor | Is SSD | Space occupied | Time taken |\n",
    "|:-----------:|:----------------:|:---:|:---------:|:------:|:----------:|:----------:|\n",
    "| 3GB    |          MacOS        |  16GB   |    Apple M1 Pro       |   Yes     |     2.9GB     |   39.6s   |\n",
    "| 10GB    |          MacOS        |  16GB   |    Apple M1 Pro       |   Yes     |    9.3GB     |   2min 22s   |\n",
    "| 20GB    |          MacOS        |  16GB   |    Apple M1 Pro       |   Yes     |            |      |"
   ]
  },
  {
   "cell_type": "markdown",
   "id": "a62381a0-4d0b-4dbd-90d4-7ee962e0f165",
   "metadata": {
    "tags": []
   },
   "source": [
    "# Step4 : Working with 20GB data"
   ]
  },
  {
   "cell_type": "markdown",
   "id": "329b22bd-d387-4164-b536-f8507995e430",
   "metadata": {},
   "source": [
    "### 4.1 Check occupied space"
   ]
  },
  {
   "cell_type": "markdown",
   "id": "cffb6535-45b5-4cac-a72e-86ea301c01b5",
   "metadata": {},
   "source": [
    "The 20GB Airline data can be found [here.](https://drive.google.com/file/d/1mAqhWXpjifT1btvrK97tMv6tZ6wReYO3/view)"
   ]
  },
  {
   "cell_type": "code",
   "execution_count": 12,
   "id": "0d6f5e2b-156f-4506-afd0-b2f6a4ca2a4d",
   "metadata": {},
   "outputs": [
    {
     "name": "stdout",
     "output_type": "stream",
     "text": [
      " 19G\tfigshareairline_20GB/combined_20gb.csv\n"
     ]
    }
   ],
   "source": [
    "%%sh\n",
    "du -sh figshareairline_20GB/combined_20gb.csv"
   ]
  },
  {
   "cell_type": "markdown",
   "id": "b1e630a5-8f41-4996-b077-9c938926a1b2",
   "metadata": {},
   "source": [
    "### 4.2 : Perform Simple EDA"
   ]
  },
  {
   "cell_type": "code",
   "execution_count": null,
   "id": "39e1fb58-0e88-47e1-9f54-66284975d686",
   "metadata": {},
   "outputs": [],
   "source": [
    "%%time\n",
    "df = pd.read_csv(\"figshareairline_20GB/combined_20gb.csv\")\n",
    "print(df[(df.year ==2004) & (df.ArrDelay >10)][\"UniqueCarrier\"].value_counts())"
   ]
  },
  {
   "cell_type": "markdown",
   "id": "aebf2731-6894-489c-8cfd-f29df6b859a7",
   "metadata": {},
   "source": [
    "Error: \n",
    "Kernel Restarting\n",
    "\n",
    "The kernel for Personal/big_data_analysis/big1_how_big_we_can_run.ipynb appears to have died. It will restart automatically."
   ]
  },
  {
   "cell_type": "markdown",
   "id": "c5be9615-f0c0-4c43-8126-84add5678098",
   "metadata": {},
   "source": [
    "Summary:\n",
    "| DataSize | Operating System | RAM | Processor | Is SSD | Space occupied | Time taken |\n",
    "|:-----------:|:----------------:|:---:|:---------:|:------:|:----------:|:----------:|\n",
    "| 3GB    |          MacOS        |  16GB   |    Apple M1 Pro       |   Yes     |     2.9GB     |   39.6s   |\n",
    "| 10GB    |          MacOS        |  16GB   |    Apple M1 Pro       |   Yes     |    9.3GB     |   2min 22s   |\n",
    "| 20GB    |          MacOS        |  16GB   |    Apple M1 Pro       |   Yes     |    19.0G     |   Couldn't be able to run   |"
   ]
  },
  {
   "cell_type": "code",
   "execution_count": null,
   "id": "4ab0da81-caba-4eae-ab09-3f56f9f052e1",
   "metadata": {},
   "outputs": [],
   "source": []
  },
  {
   "cell_type": "code",
   "execution_count": null,
   "id": "6e01c91c-5a88-47c2-b679-697a98d6ea8f",
   "metadata": {},
   "outputs": [],
   "source": []
  }
 ],
 "metadata": {
  "kernelspec": {
   "display_name": "Python [conda env:525]",
   "language": "python",
   "name": "conda-env-525-py"
  },
  "language_info": {
   "codemirror_mode": {
    "name": "ipython",
    "version": 3
   },
   "file_extension": ".py",
   "mimetype": "text/x-python",
   "name": "python",
   "nbconvert_exporter": "python",
   "pygments_lexer": "ipython3",
   "version": "3.10.10"
  }
 },
 "nbformat": 4,
 "nbformat_minor": 5
}
